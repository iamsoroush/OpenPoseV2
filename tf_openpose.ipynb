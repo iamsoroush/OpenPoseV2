{
  "nbformat": 4,
  "nbformat_minor": 0,
  "metadata": {
    "colab": {
      "name": "tf_openpose.ipynb",
      "provenance": [],
      "collapsed_sections": [],
      "authorship_tag": "ABX9TyNuiZLkebduILsCvHxVDD92",
      "include_colab_link": true
    },
    "kernelspec": {
      "name": "python3",
      "display_name": "Python 3"
    },
    "language_info": {
      "name": "python"
    },
    "accelerator": "GPU"
  },
  "cells": [
    {
      "cell_type": "markdown",
      "metadata": {
        "id": "view-in-github",
        "colab_type": "text"
      },
      "source": [
        "<a href=\"https://colab.research.google.com/github/iamsoroush/OpenPoseV2/blob/master/tf_openpose.ipynb\" target=\"_parent\"><img src=\"https://colab.research.google.com/assets/colab-badge.svg\" alt=\"Open In Colab\"/></a>"
      ]
    },
    {
      "cell_type": "code",
      "metadata": {
        "cellView": "form",
        "id": "u-hE5K1Tg9kS"
      },
      "source": [
        "#@title ## Clone\n",
        "\n",
        "!git clone https://github.com/iamsoroush/OpenPoseV2.git"
      ],
      "execution_count": null,
      "outputs": []
    },
    {
      "cell_type": "code",
      "metadata": {
        "cellView": "form",
        "id": "zU32sXYtpIUH"
      },
      "source": [
        "#@title ## Install dependencies\n",
        "\n",
        "! pip install filterpy"
      ],
      "execution_count": null,
      "outputs": []
    },
    {
      "cell_type": "code",
      "metadata": {
        "cellView": "form",
        "id": "eTBo0eOmobBb"
      },
      "source": [
        "#@title ## Download the model\n",
        "\n",
        "#@markdown Downloads the model from google drive to OpenPoseV2/src/model/\n",
        "\n",
        "! cd OpenPoseV2; python3 download_model.py"
      ],
      "execution_count": null,
      "outputs": []
    },
    {
      "cell_type": "code",
      "metadata": {
        "cellView": "form",
        "id": "4lx4OHOHhc7O"
      },
      "source": [
        "#@title ## Imports\n",
        "\n",
        "import os\n",
        "import sys\n",
        "sys.path.append('OpenPoseV2')\n",
        "\n",
        "PACKAGE_PARENT = '..'\n",
        "SCRIPT_DIR = os.path.dirname(os.path.realpath(os.getcwd()))\n",
        "sys.path.append(os.path.normpath(os.path.join(SCRIPT_DIR, PACKAGE_PARENT)))\n",
        "\n",
        "import numpy as np\n",
        "import matplotlib.pyplot as plt\n",
        "import matplotlib.animation as animation\n",
        "from tqdm import tqdm\n",
        "import cv2\n",
        "from IPython.display import HTML\n",
        "\n",
        "from src import OpenPoseV2, OpenPoseV2Config, HyperConfig, DetecTracker"
      ],
      "execution_count": null,
      "outputs": []
    },
    {
      "cell_type": "code",
      "metadata": {
        "colab": {
          "base_uri": "https://localhost:8080/"
        },
        "cellView": "form",
        "id": "jb-uuQyIhmqM",
        "outputId": "518209cd-32c4-4274-e874-70fb5a070cb7"
      },
      "source": [
        "#@title ## Initialize\n",
        "\n",
        "openpose_config = OpenPoseV2Config()\n",
        "openpose_config.input_res = 720 #@param {type:\"number\"}\n",
        "hyper_config = HyperConfig()\n",
        "hyper_config.drawing_stick = 2 #@param {type:\"number\"}\n",
        "\n",
        "detectracker = DetecTracker(openpose_config, hyper_config, verbose=False)"
      ],
      "execution_count": null,
      "outputs": [
        {
          "output_type": "stream",
          "text": [
            "Model loaded successfully\n"
          ],
          "name": "stdout"
        }
      ]
    },
    {
      "cell_type": "code",
      "metadata": {
        "colab": {
          "base_uri": "https://localhost:8080/"
        },
        "cellView": "form",
        "id": "o4sK7wEiqukF",
        "outputId": "cc593289-1f2a-4b25-babf-1be2e80dff0e"
      },
      "source": [
        "#@title ## Run\n",
        "#@markdown Upload your video and this cell will run the DetecTracker on your video. Output will be saved as 'out.mp4'.\n",
        "\n",
        "video_name = 'video.MP4' #@param {type:\"string\"}\n",
        "out_dir = './'\n",
        "draw_kps = True\n",
        "draw_limbs = True\n",
        "draw_bbox = True\n",
        "\n",
        "# Run on the first 'n' frames\n",
        "n_frames = None # set to None for full video\n",
        "\n",
        "detectracker.run_on_video(video_name,\n",
        "                          out_dir,\n",
        "                          draw_kps,\n",
        "                          draw_limbs,\n",
        "                          draw_bbox,\n",
        "                          n_frames)"
      ],
      "execution_count": null,
      "outputs": [
        {
          "output_type": "stream",
          "text": [
            "  0%|          | 1/357 [00:07<43:56,  7.41s/it]/usr/local/lib/python3.7/dist-packages/sklearn/utils/linear_assignment_.py:128: FutureWarning: The linear_assignment function is deprecated in 0.21 and will be removed from 0.23. Use scipy.optimize.linear_sum_assignment instead.\n",
            "  FutureWarning)\n",
            "100%|██████████| 357/357 [04:19<00:00,  1.38it/s]"
          ],
          "name": "stderr"
        },
        {
          "output_type": "stream",
          "text": [
            "Wrote video on  ./out.mp4\n",
            "Wrote tracks on  ./tracks.pkl\n"
          ],
          "name": "stdout"
        },
        {
          "output_type": "stream",
          "text": [
            "\n"
          ],
          "name": "stderr"
        }
      ]
    },
    {
      "cell_type": "code",
      "metadata": {
        "id": "P_z7Q_7bqwQV"
      },
      "source": [
        ""
      ],
      "execution_count": null,
      "outputs": []
    }
  ]
}